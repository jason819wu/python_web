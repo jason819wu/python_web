{
 "cells": [
  {
   "cell_type": "markdown",
   "id": "a52bec2b",
   "metadata": {},
   "source": [
    "## 迴圈"
   ]
  },
  {
   "cell_type": "code",
   "execution_count": 34,
   "id": "eb13181e",
   "metadata": {},
   "outputs": [
    {
     "name": "stdout",
     "output_type": "stream",
     "text": [
      "*\n",
      "**\n",
      "***\n",
      "****\n",
      "*****\n"
     ]
    }
   ],
   "source": [
    "i = 1\n",
    "height = 5\n",
    "\n",
    "while i <= height:\n",
    "    j = 0\n",
    "    while j < i:\n",
    "        print(\"*\", end=\"\") \n",
    "        j += 1\n",
    "    print()\n",
    "    i += 1\n"
   ]
  },
  {
   "cell_type": "code",
   "execution_count": 40,
   "id": "3b09e2a9",
   "metadata": {},
   "outputs": [
    {
     "name": "stdout",
     "output_type": "stream",
     "text": [
      "Nice Try it's your 1 tries\n",
      "Nice Try it's your 2 tries\n",
      "Nice Try it's your 3 tries\n",
      "Nice Try it's your 4 tries\n",
      "Nice Try it's your 5 tries\n",
      "Nice Try it's your 6 tries\n",
      "Not even close\n"
     ]
    }
   ],
   "source": [
    "i = 0\n",
    "while True:\n",
    "    is_play = input(\"Who is the NBA GOAT?\")\n",
    "    \n",
    "    if is_play == \"mj\":\n",
    "        print(\"Wise Choice\")\n",
    "        break\n",
    "    \n",
    "    elif is_play == \"lbj\":\n",
    "        print(\"Not even close\")\n",
    "        break\n",
    "    \n",
    "    else:\n",
    "        i += 1\n",
    "        print(\"Nice Try it's your\", i, \"tries\")"
   ]
  }
 ],
 "metadata": {
  "kernelspec": {
   "display_name": "venv1",
   "language": "python",
   "name": "python3"
  },
  "language_info": {
   "codemirror_mode": {
    "name": "ipython",
    "version": 3
   },
   "file_extension": ".py",
   "mimetype": "text/x-python",
   "name": "python",
   "nbconvert_exporter": "python",
   "pygments_lexer": "ipython3",
   "version": "3.11.13"
  }
 },
 "nbformat": 4,
 "nbformat_minor": 5
}
