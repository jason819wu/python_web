{
 "cells": [
  {
   "cell_type": "code",
   "execution_count": 7,
   "id": "5066505d",
   "metadata": {},
   "outputs": [
    {
     "name": "stdout",
     "output_type": "stream",
     "text": [
      "Your score is 90 Excellent!\n"
     ]
    }
   ],
   "source": [
    "score = int(input(\"Enter your score: \")) \n",
    "\n",
    "if score >= 90:\n",
    "    print(\"Your score is\", score, \"Excellent!\")\n",
    "\n",
    "elif 60 <= score < 90:\n",
    "    print(\"Your score is\", score, \"Not bad!\")\n",
    "\n",
    "else:\n",
    "    print(\"Your score is\", score, \"Never give up!\")\n"
   ]
  }
 ],
 "metadata": {
  "kernelspec": {
   "display_name": "venv1",
   "language": "python",
   "name": "python3"
  },
  "language_info": {
   "codemirror_mode": {
    "name": "ipython",
    "version": 3
   },
   "file_extension": ".py",
   "mimetype": "text/x-python",
   "name": "python",
   "nbconvert_exporter": "python",
   "pygments_lexer": "ipython3",
   "version": "3.11.13"
  }
 },
 "nbformat": 4,
 "nbformat_minor": 5
}
