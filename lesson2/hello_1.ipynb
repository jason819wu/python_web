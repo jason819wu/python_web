{
 "cells": [
  {
   "cell_type": "markdown",
   "id": "dea09cfa",
   "metadata": {},
   "source": [
    "### python 基礎"
   ]
  },
  {
   "cell_type": "code",
   "execution_count": 45,
   "id": "b4d02fd0",
   "metadata": {},
   "outputs": [
    {
     "name": "stdout",
     "output_type": "stream",
     "text": [
      "\n",
      "--- Your Info ---\n",
      "Name: jason\n",
      "Age: 40\n",
      "Height: 175.0 cm\n",
      "Height: 80.0 kg\n",
      "Student: True\n",
      "BMI: 26.1\n",
      "Overweight\n"
     ]
    }
   ],
   "source": [
    "import math\n",
    "\n",
    "name = input(\"Enter your name: \") \n",
    "age = input(\"Enter your age: \")\n",
    "height = float(input(\"Enter your height (cm): \"))\n",
    "weight = float(input(\"Enter your weight (kg): \"))\n",
    "\n",
    "is_student = input(\"Are you a student? (y/n): \")\n",
    "\n",
    "if is_student == \"y\":\n",
    "    is_student = True\n",
    "else:\n",
    "    is_student = False\n",
    "\n",
    "print(\"\\n--- Your Info ---\")\n",
    "print(\"Name:\", name)\n",
    "print(\"Age:\", age)\n",
    "print(\"Height:\", height, \"cm\")\n",
    "print(\"Height:\", weight, \"kg\")\n",
    "\n",
    "print(\"Student:\", is_student)\n",
    "\n",
    "bmi = weight/ math.pow(height/100 ,2)\n",
    "print(\"BMI:\", round(bmi ,1))\n",
    "\n",
    "if bmi >= 24:\n",
    "    print(\"Overweight\")\n",
    "elif 24 > bmi >= 18.5:\n",
    "    print(\"Normal\")\n",
    "else:\n",
    "    print(\"Underweight\")\n"
   ]
  },
  {
   "cell_type": "code",
   "execution_count": 46,
   "id": "e8ca49d5",
   "metadata": {},
   "outputs": [
    {
     "name": "stdout",
     "output_type": "stream",
     "text": [
      "Pythagorean theorem\n",
      "Edge1: 3.0\n",
      "Edge2: 4.0\n",
      "Edge3: 5.0\n"
     ]
    }
   ],
   "source": [
    "import math\n",
    "\n",
    "print(\"Pythagorean theorem\")\n",
    "edge1 = float(input(\"Enter first edge: \"))\n",
    "edge2 = float(input(\"Enter second edge: \"))\n",
    "\n",
    "edge3_square = math.pow(edge1 ,2) + math.pow(edge2 ,2)\n",
    "\n",
    "\n",
    "print(\"Edge1:\", edge1)\n",
    "print(\"Edge2:\", edge2)\n",
    "print(\"Edge3:\", math.sqrt(edge3_square))\n"
   ]
  }
 ],
 "metadata": {
  "kernelspec": {
   "display_name": "venv1",
   "language": "python",
   "name": "python3"
  },
  "language_info": {
   "codemirror_mode": {
    "name": "ipython",
    "version": 3
   },
   "file_extension": ".py",
   "mimetype": "text/x-python",
   "name": "python",
   "nbconvert_exporter": "python",
   "pygments_lexer": "ipython3",
   "version": "3.11.13"
  }
 },
 "nbformat": 4,
 "nbformat_minor": 5
}
