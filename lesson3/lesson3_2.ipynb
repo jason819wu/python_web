{
 "cells": [
  {
   "cell_type": "markdown",
   "id": "1b8842ed",
   "metadata": {},
   "source": [
    "### Function"
   ]
  },
  {
   "cell_type": "code",
   "execution_count": 20,
   "id": "2e1871d9",
   "metadata": {},
   "outputs": [],
   "source": [
    "def merge_and_sort_lists(list1, list2):\n",
    "    \n",
    "    combined_list = list1 + list2\n",
    "    combined_list.sort()\n",
    "    return combined_list\n"
   ]
  },
  {
   "cell_type": "code",
   "execution_count": 21,
   "id": "bb3c6549",
   "metadata": {},
   "outputs": [
    {
     "name": "stdout",
     "output_type": "stream",
     "text": [
      "[5, 12, 31, 32, 39, 64, 68, 80, 99]\n"
     ]
    }
   ],
   "source": [
    "import random\n",
    "\n",
    "a = [random.randint(1,100) for _ in range(3)]\n",
    "b = [random.randint(1,100) for _ in range(6)]\n",
    "\n",
    "result = merge_and_sort_lists(a, b)\n",
    "print(result)"
   ]
  }
 ],
 "metadata": {
  "kernelspec": {
   "display_name": "venv1",
   "language": "python",
   "name": "python3"
  },
  "language_info": {
   "codemirror_mode": {
    "name": "ipython",
    "version": 3
   },
   "file_extension": ".py",
   "mimetype": "text/x-python",
   "name": "python",
   "nbconvert_exporter": "python",
   "pygments_lexer": "ipython3",
   "version": "3.11.13"
  }
 },
 "nbformat": 4,
 "nbformat_minor": 5
}
