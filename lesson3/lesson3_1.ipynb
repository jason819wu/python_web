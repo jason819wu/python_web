{
 "cells": [
  {
   "cell_type": "markdown",
   "id": "848a3ee2",
   "metadata": {},
   "source": [
    "### 串列"
   ]
  },
  {
   "cell_type": "code",
   "execution_count": 18,
   "id": "80edaad3",
   "metadata": {},
   "outputs": [
    {
     "name": "stdout",
     "output_type": "stream",
     "text": [
      "Original Fruit List:  ['apple', 'banana', 'cherry']\n",
      "Modified Fruit List:  ['apple', 'orange', 'cherry']\n",
      "Updated Fruit List:  ['apple', 'orange', 'cherry', 'pineapple']\n",
      "Inserted Fruit List:  ['apple', 'mango', 'orange', 'cherry', 'pineapple']\n"
     ]
    }
   ],
   "source": [
    "fruits = [\"apple\", \"banana\", \"cherry\"]\n",
    "type(fruits)\n",
    "print(\"Original Fruit List: \", fruits) \n",
    "\n",
    "fruits[1] = \"orange\"\n",
    "print(\"Modified Fruit List: \", fruits)\n",
    "\n",
    "fruits.append(\"pineapple\")\n",
    "print(\"Updated Fruit List: \", fruits)\n",
    "\n",
    "fruits.insert(1, \"mango\") \n",
    "print(\"Inserted Fruit List: \", fruits)\n"
   ]
  },
  {
   "cell_type": "code",
   "execution_count": 20,
   "id": "79fc2fce",
   "metadata": {},
   "outputs": [
    {
     "name": "stdout",
     "output_type": "stream",
     "text": [
      "apple\n",
      "mango\n",
      "orange\n",
      "cherry\n",
      "pineapple\n"
     ]
    }
   ],
   "source": [
    "for item in fruits:\n",
    "    print(item)"
   ]
  },
  {
   "cell_type": "code",
   "execution_count": 21,
   "id": "910cb95c",
   "metadata": {},
   "outputs": [],
   "source": [
    "fruit_price = {\"Apple\": 20, \"Banana\": 10}"
   ]
  },
  {
   "cell_type": "code",
   "execution_count": 25,
   "id": "6fd02d80",
   "metadata": {},
   "outputs": [
    {
     "name": "stdout",
     "output_type": "stream",
     "text": [
      "('Apple', 20)\n",
      "('Banana', 10)\n"
     ]
    }
   ],
   "source": [
    "for item in fruit_price.items():\n",
    "    print(item)"
   ]
  }
 ],
 "metadata": {
  "kernelspec": {
   "display_name": "venv1",
   "language": "python",
   "name": "python3"
  },
  "language_info": {
   "codemirror_mode": {
    "name": "ipython",
    "version": 3
   },
   "file_extension": ".py",
   "mimetype": "text/x-python",
   "name": "python",
   "nbconvert_exporter": "python",
   "pygments_lexer": "ipython3",
   "version": "3.11.13"
  }
 },
 "nbformat": 4,
 "nbformat_minor": 5
}
